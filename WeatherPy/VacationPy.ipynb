{
 "cells": [
  {
   "cell_type": "markdown",
   "metadata": {},
   "source": [
    "# VacationPy\n",
    "----\n",
    "\n",
    "#### Note\n",
    "* Keep an eye on your API usage. Use https://developers.google.com/maps/reporting/gmp-reporting as reference for how to monitor your usage and billing.\n",
    "\n",
    "* Instructions have been included for each segment. You do not have to follow them exactly, but they are included to help you think through the steps."
   ]
  },
  {
   "cell_type": "code",
   "execution_count": 1,
   "metadata": {},
   "outputs": [],
   "source": [
    "# Dependencies and Setup\n",
    "import matplotlib.pyplot as plt\n",
    "import pandas as pd\n",
    "import numpy as np\n",
    "import requests\n",
    "import gmaps\n",
    "import os\n",
    "\n",
    "# Import API key\n",
    "from api_keys import g_key"
   ]
  },
  {
   "cell_type": "markdown",
   "metadata": {},
   "source": [
    "### Store Part I results into DataFrame\n",
    "* Load the csv exported in Part I to a DataFrame"
   ]
  },
  {
   "cell_type": "code",
   "execution_count": 2,
   "metadata": {},
   "outputs": [
    {
     "output_type": "execute_result",
     "data": {
      "text/plain": "   Unnamed: 0       City    Lat     Lng  Max Temp  Humidity  Cloudiness  \\\n0           0      vaini -21.20 -175.20     75.20        69          75   \n1           1   zhigansk  66.77  123.37     47.43        75         100   \n2           2  hithadhoo  -0.60   73.08     82.15        76         100   \n3           3   cabedelo  -6.98  -34.83     71.60        88          23   \n4           4  jamestown  42.10  -79.24     68.00        67           1   \n\n   Wind Speed Country        Date  \n0       13.87      TO  1599438878  \n1       19.04      RU  1599439413  \n2       11.23      MV  1599439413  \n3        3.36      BR  1599439413  \n4        4.70      US  1599439414  ",
      "text/html": "<div>\n<style scoped>\n    .dataframe tbody tr th:only-of-type {\n        vertical-align: middle;\n    }\n\n    .dataframe tbody tr th {\n        vertical-align: top;\n    }\n\n    .dataframe thead th {\n        text-align: right;\n    }\n</style>\n<table border=\"1\" class=\"dataframe\">\n  <thead>\n    <tr style=\"text-align: right;\">\n      <th></th>\n      <th>Unnamed: 0</th>\n      <th>City</th>\n      <th>Lat</th>\n      <th>Lng</th>\n      <th>Max Temp</th>\n      <th>Humidity</th>\n      <th>Cloudiness</th>\n      <th>Wind Speed</th>\n      <th>Country</th>\n      <th>Date</th>\n    </tr>\n  </thead>\n  <tbody>\n    <tr>\n      <th>0</th>\n      <td>0</td>\n      <td>vaini</td>\n      <td>-21.20</td>\n      <td>-175.20</td>\n      <td>75.20</td>\n      <td>69</td>\n      <td>75</td>\n      <td>13.87</td>\n      <td>TO</td>\n      <td>1599438878</td>\n    </tr>\n    <tr>\n      <th>1</th>\n      <td>1</td>\n      <td>zhigansk</td>\n      <td>66.77</td>\n      <td>123.37</td>\n      <td>47.43</td>\n      <td>75</td>\n      <td>100</td>\n      <td>19.04</td>\n      <td>RU</td>\n      <td>1599439413</td>\n    </tr>\n    <tr>\n      <th>2</th>\n      <td>2</td>\n      <td>hithadhoo</td>\n      <td>-0.60</td>\n      <td>73.08</td>\n      <td>82.15</td>\n      <td>76</td>\n      <td>100</td>\n      <td>11.23</td>\n      <td>MV</td>\n      <td>1599439413</td>\n    </tr>\n    <tr>\n      <th>3</th>\n      <td>3</td>\n      <td>cabedelo</td>\n      <td>-6.98</td>\n      <td>-34.83</td>\n      <td>71.60</td>\n      <td>88</td>\n      <td>23</td>\n      <td>3.36</td>\n      <td>BR</td>\n      <td>1599439413</td>\n    </tr>\n    <tr>\n      <th>4</th>\n      <td>4</td>\n      <td>jamestown</td>\n      <td>42.10</td>\n      <td>-79.24</td>\n      <td>68.00</td>\n      <td>67</td>\n      <td>1</td>\n      <td>4.70</td>\n      <td>US</td>\n      <td>1599439414</td>\n    </tr>\n  </tbody>\n</table>\n</div>"
     },
     "metadata": {},
     "execution_count": 2
    }
   ],
   "source": [
    "# import of Weather csv\n",
    "vacation_csv = \"output_data/cities.csv\"\n",
    "vacation_data = pd.read_csv(vacation_csv)\n",
    "vacation_data.head()"
   ]
  },
  {
   "cell_type": "markdown",
   "metadata": {},
   "source": [
    "### Humidity Heatmap\n",
    "* Configure gmaps.\n",
    "* Use the Lat and Lng as locations and Humidity as the weight.\n",
    "* Add Heatmap layer to map."
   ]
  },
  {
   "cell_type": "code",
   "execution_count": 7,
   "metadata": {},
   "outputs": [
    {
     "output_type": "display_data",
     "data": {
      "text/plain": "Figure(layout=FigureLayout(border='1px solid black', height='400px', margin='0 auto 0 auto', padding='1px', wi…",
      "application/vnd.jupyter.widget-view+json": {
       "version_major": 2,
       "version_minor": 0,
       "model_id": "07e55ba25af8439b9ce8cdc31413a2e9"
      }
     },
     "metadata": {}
    }
   ],
   "source": [
    "# Store latitude and longitude in locations\n",
    "locations = vacation_data[[\"Lat\", \"Lng\"]]\n",
    "\n",
    "# Fill NaN values in Humidity and convert to float\n",
    "rating = vacation_data[\"Humidity\"].astype(float)\n",
    "\n",
    "figure_layout = {\n",
    "     'width' : '1000px',\n",
    "     'height':'400px',\n",
    "     'border':'1px solid black',\n",
    "     'padding':'1px',\n",
    "     'margin':'0 auto 0 auto'\n",
    " }\n",
    "\n",
    "fig = gmaps.figure(layout=figure_layout)\n",
    "#fig = gmaps.figure()\n",
    "\n",
    "# Create heat layer\n",
    "heat_layer = gmaps.heatmap_layer(locations, weights=rating, \n",
    "                                 dissipating=False, max_intensity=5,\n",
    "                                 point_radius=1)\n",
    "\n",
    "\n",
    "# Add layer\n",
    "fig.add_layer(heat_layer)\n",
    "\n",
    "# Display figure\n",
    "fig"
   ]
  },
  {
   "cell_type": "code",
   "execution_count": null,
   "metadata": {},
   "outputs": [],
   "source": []
  },
  {
   "cell_type": "markdown",
   "metadata": {},
   "source": [
    "### Create new DataFrame fitting weather criteria\n",
    "* Narrow down the cities to fit weather conditions.\n",
    "* Drop any rows will null values."
   ]
  },
  {
   "cell_type": "code",
   "execution_count": 10,
   "metadata": {},
   "outputs": [
    {
     "output_type": "execute_result",
     "data": {
      "text/plain": "                City  Max Temp  Wind Speed  Cloudiness    Lat     Lng Country\n19            kashan     74.50        2.75           0  33.98   51.44      IR\n22             mansa     79.74        2.77           0  29.98   75.38      IN\n43   arraial do cabo     75.20        8.05           0 -22.84  -46.65      BR\n53             nauta     79.32        1.21           0  -4.51  -73.58      PE\n56           iquitos     78.80        4.70           0  -3.75  -73.25      PE\n83              maku     71.98        6.87           0  39.29   44.45      IR\n128          pitimbu     71.60        3.36           0  -7.47  -34.81      BR\n131     puerto ayora     75.20        4.70           0  36.59   -6.23      ES\n141           kharan     77.43        5.03           0  28.58   65.42      PK\n223           waddan     73.54        8.86           0  29.16   16.14      LY\n245        paralimni     79.00        5.82           0  35.04   33.98      CY\n261        dalbandin     75.70        9.26           0  28.89   64.41      PK\n302             asfi     73.87        9.66           0  32.30   -9.24      MA\n329          huangpi     77.00        6.71           0  30.88  114.38      CN\n335            xinpu     77.07        7.56           0  34.60  119.16      CN\n381    puerto madero     73.00        4.70           0  36.59   -6.23      ES\n401         hanzhong     72.54        0.96           0  33.07  107.03      CN\n404      puerto rico     75.20        4.70           0  36.59   -6.23      ES\n406       negru voda     71.01        4.70           0  42.76    9.34      FR\n474          rossano     75.00        4.54           0  39.58   16.63      IT\n478     puerto plata     75.20        4.70           0  36.59   -6.23      ES\n508          buritis     71.56        0.96           0 -15.62  -46.42      BR\n516         coruripe     72.32        7.38           0 -10.13  -36.18      BR",
      "text/html": "<div>\n<style scoped>\n    .dataframe tbody tr th:only-of-type {\n        vertical-align: middle;\n    }\n\n    .dataframe tbody tr th {\n        vertical-align: top;\n    }\n\n    .dataframe thead th {\n        text-align: right;\n    }\n</style>\n<table border=\"1\" class=\"dataframe\">\n  <thead>\n    <tr style=\"text-align: right;\">\n      <th></th>\n      <th>City</th>\n      <th>Max Temp</th>\n      <th>Wind Speed</th>\n      <th>Cloudiness</th>\n      <th>Lat</th>\n      <th>Lng</th>\n      <th>Country</th>\n    </tr>\n  </thead>\n  <tbody>\n    <tr>\n      <th>19</th>\n      <td>kashan</td>\n      <td>74.50</td>\n      <td>2.75</td>\n      <td>0</td>\n      <td>33.98</td>\n      <td>51.44</td>\n      <td>IR</td>\n    </tr>\n    <tr>\n      <th>22</th>\n      <td>mansa</td>\n      <td>79.74</td>\n      <td>2.77</td>\n      <td>0</td>\n      <td>29.98</td>\n      <td>75.38</td>\n      <td>IN</td>\n    </tr>\n    <tr>\n      <th>43</th>\n      <td>arraial do cabo</td>\n      <td>75.20</td>\n      <td>8.05</td>\n      <td>0</td>\n      <td>-22.84</td>\n      <td>-46.65</td>\n      <td>BR</td>\n    </tr>\n    <tr>\n      <th>53</th>\n      <td>nauta</td>\n      <td>79.32</td>\n      <td>1.21</td>\n      <td>0</td>\n      <td>-4.51</td>\n      <td>-73.58</td>\n      <td>PE</td>\n    </tr>\n    <tr>\n      <th>56</th>\n      <td>iquitos</td>\n      <td>78.80</td>\n      <td>4.70</td>\n      <td>0</td>\n      <td>-3.75</td>\n      <td>-73.25</td>\n      <td>PE</td>\n    </tr>\n    <tr>\n      <th>83</th>\n      <td>maku</td>\n      <td>71.98</td>\n      <td>6.87</td>\n      <td>0</td>\n      <td>39.29</td>\n      <td>44.45</td>\n      <td>IR</td>\n    </tr>\n    <tr>\n      <th>128</th>\n      <td>pitimbu</td>\n      <td>71.60</td>\n      <td>3.36</td>\n      <td>0</td>\n      <td>-7.47</td>\n      <td>-34.81</td>\n      <td>BR</td>\n    </tr>\n    <tr>\n      <th>131</th>\n      <td>puerto ayora</td>\n      <td>75.20</td>\n      <td>4.70</td>\n      <td>0</td>\n      <td>36.59</td>\n      <td>-6.23</td>\n      <td>ES</td>\n    </tr>\n    <tr>\n      <th>141</th>\n      <td>kharan</td>\n      <td>77.43</td>\n      <td>5.03</td>\n      <td>0</td>\n      <td>28.58</td>\n      <td>65.42</td>\n      <td>PK</td>\n    </tr>\n    <tr>\n      <th>223</th>\n      <td>waddan</td>\n      <td>73.54</td>\n      <td>8.86</td>\n      <td>0</td>\n      <td>29.16</td>\n      <td>16.14</td>\n      <td>LY</td>\n    </tr>\n    <tr>\n      <th>245</th>\n      <td>paralimni</td>\n      <td>79.00</td>\n      <td>5.82</td>\n      <td>0</td>\n      <td>35.04</td>\n      <td>33.98</td>\n      <td>CY</td>\n    </tr>\n    <tr>\n      <th>261</th>\n      <td>dalbandin</td>\n      <td>75.70</td>\n      <td>9.26</td>\n      <td>0</td>\n      <td>28.89</td>\n      <td>64.41</td>\n      <td>PK</td>\n    </tr>\n    <tr>\n      <th>302</th>\n      <td>asfi</td>\n      <td>73.87</td>\n      <td>9.66</td>\n      <td>0</td>\n      <td>32.30</td>\n      <td>-9.24</td>\n      <td>MA</td>\n    </tr>\n    <tr>\n      <th>329</th>\n      <td>huangpi</td>\n      <td>77.00</td>\n      <td>6.71</td>\n      <td>0</td>\n      <td>30.88</td>\n      <td>114.38</td>\n      <td>CN</td>\n    </tr>\n    <tr>\n      <th>335</th>\n      <td>xinpu</td>\n      <td>77.07</td>\n      <td>7.56</td>\n      <td>0</td>\n      <td>34.60</td>\n      <td>119.16</td>\n      <td>CN</td>\n    </tr>\n    <tr>\n      <th>381</th>\n      <td>puerto madero</td>\n      <td>73.00</td>\n      <td>4.70</td>\n      <td>0</td>\n      <td>36.59</td>\n      <td>-6.23</td>\n      <td>ES</td>\n    </tr>\n    <tr>\n      <th>401</th>\n      <td>hanzhong</td>\n      <td>72.54</td>\n      <td>0.96</td>\n      <td>0</td>\n      <td>33.07</td>\n      <td>107.03</td>\n      <td>CN</td>\n    </tr>\n    <tr>\n      <th>404</th>\n      <td>puerto rico</td>\n      <td>75.20</td>\n      <td>4.70</td>\n      <td>0</td>\n      <td>36.59</td>\n      <td>-6.23</td>\n      <td>ES</td>\n    </tr>\n    <tr>\n      <th>406</th>\n      <td>negru voda</td>\n      <td>71.01</td>\n      <td>4.70</td>\n      <td>0</td>\n      <td>42.76</td>\n      <td>9.34</td>\n      <td>FR</td>\n    </tr>\n    <tr>\n      <th>474</th>\n      <td>rossano</td>\n      <td>75.00</td>\n      <td>4.54</td>\n      <td>0</td>\n      <td>39.58</td>\n      <td>16.63</td>\n      <td>IT</td>\n    </tr>\n    <tr>\n      <th>478</th>\n      <td>puerto plata</td>\n      <td>75.20</td>\n      <td>4.70</td>\n      <td>0</td>\n      <td>36.59</td>\n      <td>-6.23</td>\n      <td>ES</td>\n    </tr>\n    <tr>\n      <th>508</th>\n      <td>buritis</td>\n      <td>71.56</td>\n      <td>0.96</td>\n      <td>0</td>\n      <td>-15.62</td>\n      <td>-46.42</td>\n      <td>BR</td>\n    </tr>\n    <tr>\n      <th>516</th>\n      <td>coruripe</td>\n      <td>72.32</td>\n      <td>7.38</td>\n      <td>0</td>\n      <td>-10.13</td>\n      <td>-36.18</td>\n      <td>BR</td>\n    </tr>\n  </tbody>\n</table>\n</div>"
     },
     "metadata": {},
     "execution_count": 10
    }
   ],
   "source": [
    "# narrow down cities to maximum temperature between 70 and 80, wind speed less than 5 mph and zero cloudiness.\n",
    "\n",
    "vacation_area = pd.DataFrame(vacation_data, columns = [\"City\", \"Max Temp\", \"Wind Speed\", \"Cloudiness\", \"Lat\", \"Lng\", \"Country\"])\n",
    "\n",
    "max_temp = vacation_area[(vacation_area[\"Max Temp\"] <= 80) & (vacation_area[\"Max Temp\"] > 70)]\n",
    "wind_speed = max_temp[(max_temp[\"Wind Speed\"] < 10)]\n",
    "vacation_spot = wind_speed[(wind_speed[\"Cloudiness\"] == 0)]\n",
    "\n",
    "vacation_spot"
   ]
  },
  {
   "cell_type": "markdown",
   "metadata": {},
   "source": [
    "### Hotel Map\n",
    "* Store into variable named `hotel_df`.\n",
    "* Add a \"Hotel Name\" column to the DataFrame.\n",
    "* Set parameters to search for hotels with 5000 meters.\n",
    "* Hit the Google Places API for each city's coordinates.\n",
    "* Store the first Hotel result into the DataFrame.\n",
    "* Plot markers on top of the heatmap."
   ]
  },
  {
   "cell_type": "code",
   "execution_count": 11,
   "metadata": {},
   "outputs": [
    {
     "output_type": "execute_result",
     "data": {
      "text/plain": "                City  Max Temp  Wind Speed  Cloudiness    Lat     Lng Country  \\\n19            kashan     74.50        2.75           0  33.98   51.44      IR   \n22             mansa     79.74        2.77           0  29.98   75.38      IN   \n43   arraial do cabo     75.20        8.05           0 -22.84  -46.65      BR   \n53             nauta     79.32        1.21           0  -4.51  -73.58      PE   \n56           iquitos     78.80        4.70           0  -3.75  -73.25      PE   \n83              maku     71.98        6.87           0  39.29   44.45      IR   \n128          pitimbu     71.60        3.36           0  -7.47  -34.81      BR   \n131     puerto ayora     75.20        4.70           0  36.59   -6.23      ES   \n141           kharan     77.43        5.03           0  28.58   65.42      PK   \n223           waddan     73.54        8.86           0  29.16   16.14      LY   \n245        paralimni     79.00        5.82           0  35.04   33.98      CY   \n261        dalbandin     75.70        9.26           0  28.89   64.41      PK   \n302             asfi     73.87        9.66           0  32.30   -9.24      MA   \n329          huangpi     77.00        6.71           0  30.88  114.38      CN   \n335            xinpu     77.07        7.56           0  34.60  119.16      CN   \n381    puerto madero     73.00        4.70           0  36.59   -6.23      ES   \n401         hanzhong     72.54        0.96           0  33.07  107.03      CN   \n404      puerto rico     75.20        4.70           0  36.59   -6.23      ES   \n406       negru voda     71.01        4.70           0  42.76    9.34      FR   \n474          rossano     75.00        4.54           0  39.58   16.63      IT   \n478     puerto plata     75.20        4.70           0  36.59   -6.23      ES   \n508          buritis     71.56        0.96           0 -15.62  -46.42      BR   \n516         coruripe     72.32        7.38           0 -10.13  -36.18      BR   \n\n    Hotel Name  \n19              \n22              \n43              \n53              \n56              \n83              \n128             \n131             \n141             \n223             \n245             \n261             \n302             \n329             \n335             \n381             \n401             \n404             \n406             \n474             \n478             \n508             \n516             ",
      "text/html": "<div>\n<style scoped>\n    .dataframe tbody tr th:only-of-type {\n        vertical-align: middle;\n    }\n\n    .dataframe tbody tr th {\n        vertical-align: top;\n    }\n\n    .dataframe thead th {\n        text-align: right;\n    }\n</style>\n<table border=\"1\" class=\"dataframe\">\n  <thead>\n    <tr style=\"text-align: right;\">\n      <th></th>\n      <th>City</th>\n      <th>Max Temp</th>\n      <th>Wind Speed</th>\n      <th>Cloudiness</th>\n      <th>Lat</th>\n      <th>Lng</th>\n      <th>Country</th>\n      <th>Hotel Name</th>\n    </tr>\n  </thead>\n  <tbody>\n    <tr>\n      <th>19</th>\n      <td>kashan</td>\n      <td>74.50</td>\n      <td>2.75</td>\n      <td>0</td>\n      <td>33.98</td>\n      <td>51.44</td>\n      <td>IR</td>\n      <td></td>\n    </tr>\n    <tr>\n      <th>22</th>\n      <td>mansa</td>\n      <td>79.74</td>\n      <td>2.77</td>\n      <td>0</td>\n      <td>29.98</td>\n      <td>75.38</td>\n      <td>IN</td>\n      <td></td>\n    </tr>\n    <tr>\n      <th>43</th>\n      <td>arraial do cabo</td>\n      <td>75.20</td>\n      <td>8.05</td>\n      <td>0</td>\n      <td>-22.84</td>\n      <td>-46.65</td>\n      <td>BR</td>\n      <td></td>\n    </tr>\n    <tr>\n      <th>53</th>\n      <td>nauta</td>\n      <td>79.32</td>\n      <td>1.21</td>\n      <td>0</td>\n      <td>-4.51</td>\n      <td>-73.58</td>\n      <td>PE</td>\n      <td></td>\n    </tr>\n    <tr>\n      <th>56</th>\n      <td>iquitos</td>\n      <td>78.80</td>\n      <td>4.70</td>\n      <td>0</td>\n      <td>-3.75</td>\n      <td>-73.25</td>\n      <td>PE</td>\n      <td></td>\n    </tr>\n    <tr>\n      <th>83</th>\n      <td>maku</td>\n      <td>71.98</td>\n      <td>6.87</td>\n      <td>0</td>\n      <td>39.29</td>\n      <td>44.45</td>\n      <td>IR</td>\n      <td></td>\n    </tr>\n    <tr>\n      <th>128</th>\n      <td>pitimbu</td>\n      <td>71.60</td>\n      <td>3.36</td>\n      <td>0</td>\n      <td>-7.47</td>\n      <td>-34.81</td>\n      <td>BR</td>\n      <td></td>\n    </tr>\n    <tr>\n      <th>131</th>\n      <td>puerto ayora</td>\n      <td>75.20</td>\n      <td>4.70</td>\n      <td>0</td>\n      <td>36.59</td>\n      <td>-6.23</td>\n      <td>ES</td>\n      <td></td>\n    </tr>\n    <tr>\n      <th>141</th>\n      <td>kharan</td>\n      <td>77.43</td>\n      <td>5.03</td>\n      <td>0</td>\n      <td>28.58</td>\n      <td>65.42</td>\n      <td>PK</td>\n      <td></td>\n    </tr>\n    <tr>\n      <th>223</th>\n      <td>waddan</td>\n      <td>73.54</td>\n      <td>8.86</td>\n      <td>0</td>\n      <td>29.16</td>\n      <td>16.14</td>\n      <td>LY</td>\n      <td></td>\n    </tr>\n    <tr>\n      <th>245</th>\n      <td>paralimni</td>\n      <td>79.00</td>\n      <td>5.82</td>\n      <td>0</td>\n      <td>35.04</td>\n      <td>33.98</td>\n      <td>CY</td>\n      <td></td>\n    </tr>\n    <tr>\n      <th>261</th>\n      <td>dalbandin</td>\n      <td>75.70</td>\n      <td>9.26</td>\n      <td>0</td>\n      <td>28.89</td>\n      <td>64.41</td>\n      <td>PK</td>\n      <td></td>\n    </tr>\n    <tr>\n      <th>302</th>\n      <td>asfi</td>\n      <td>73.87</td>\n      <td>9.66</td>\n      <td>0</td>\n      <td>32.30</td>\n      <td>-9.24</td>\n      <td>MA</td>\n      <td></td>\n    </tr>\n    <tr>\n      <th>329</th>\n      <td>huangpi</td>\n      <td>77.00</td>\n      <td>6.71</td>\n      <td>0</td>\n      <td>30.88</td>\n      <td>114.38</td>\n      <td>CN</td>\n      <td></td>\n    </tr>\n    <tr>\n      <th>335</th>\n      <td>xinpu</td>\n      <td>77.07</td>\n      <td>7.56</td>\n      <td>0</td>\n      <td>34.60</td>\n      <td>119.16</td>\n      <td>CN</td>\n      <td></td>\n    </tr>\n    <tr>\n      <th>381</th>\n      <td>puerto madero</td>\n      <td>73.00</td>\n      <td>4.70</td>\n      <td>0</td>\n      <td>36.59</td>\n      <td>-6.23</td>\n      <td>ES</td>\n      <td></td>\n    </tr>\n    <tr>\n      <th>401</th>\n      <td>hanzhong</td>\n      <td>72.54</td>\n      <td>0.96</td>\n      <td>0</td>\n      <td>33.07</td>\n      <td>107.03</td>\n      <td>CN</td>\n      <td></td>\n    </tr>\n    <tr>\n      <th>404</th>\n      <td>puerto rico</td>\n      <td>75.20</td>\n      <td>4.70</td>\n      <td>0</td>\n      <td>36.59</td>\n      <td>-6.23</td>\n      <td>ES</td>\n      <td></td>\n    </tr>\n    <tr>\n      <th>406</th>\n      <td>negru voda</td>\n      <td>71.01</td>\n      <td>4.70</td>\n      <td>0</td>\n      <td>42.76</td>\n      <td>9.34</td>\n      <td>FR</td>\n      <td></td>\n    </tr>\n    <tr>\n      <th>474</th>\n      <td>rossano</td>\n      <td>75.00</td>\n      <td>4.54</td>\n      <td>0</td>\n      <td>39.58</td>\n      <td>16.63</td>\n      <td>IT</td>\n      <td></td>\n    </tr>\n    <tr>\n      <th>478</th>\n      <td>puerto plata</td>\n      <td>75.20</td>\n      <td>4.70</td>\n      <td>0</td>\n      <td>36.59</td>\n      <td>-6.23</td>\n      <td>ES</td>\n      <td></td>\n    </tr>\n    <tr>\n      <th>508</th>\n      <td>buritis</td>\n      <td>71.56</td>\n      <td>0.96</td>\n      <td>0</td>\n      <td>-15.62</td>\n      <td>-46.42</td>\n      <td>BR</td>\n      <td></td>\n    </tr>\n    <tr>\n      <th>516</th>\n      <td>coruripe</td>\n      <td>72.32</td>\n      <td>7.38</td>\n      <td>0</td>\n      <td>-10.13</td>\n      <td>-36.18</td>\n      <td>BR</td>\n      <td></td>\n    </tr>\n  </tbody>\n</table>\n</div>"
     },
     "metadata": {},
     "execution_count": 11
    }
   ],
   "source": [
    "# add Hotel Name column of Dataframe\n",
    "hotel_df = vacation_spot.copy()\n",
    "hotel_df[\"Hotel Name\"] = \"\"\n",
    "hotel_df"
   ]
  },
  {
   "cell_type": "code",
   "execution_count": 31,
   "metadata": {},
   "outputs": [
    {
     "output_type": "execute_result",
     "data": {
      "text/plain": "        City Country    Lat     Lng Hotel Name\n0      vaini      TO -21.20 -175.20           \n1   zhigansk      RU  66.77  123.37           \n2  hithadhoo      MV  -0.60   73.08           \n3   cabedelo      BR  -6.98  -34.83           \n4  jamestown      US  42.10  -79.24           ",
      "text/html": "<div>\n<style scoped>\n    .dataframe tbody tr th:only-of-type {\n        vertical-align: middle;\n    }\n\n    .dataframe tbody tr th {\n        vertical-align: top;\n    }\n\n    .dataframe thead th {\n        text-align: right;\n    }\n</style>\n<table border=\"1\" class=\"dataframe\">\n  <thead>\n    <tr style=\"text-align: right;\">\n      <th></th>\n      <th>City</th>\n      <th>Country</th>\n      <th>Lat</th>\n      <th>Lng</th>\n      <th>Hotel Name</th>\n    </tr>\n  </thead>\n  <tbody>\n    <tr>\n      <th>0</th>\n      <td>vaini</td>\n      <td>TO</td>\n      <td>-21.20</td>\n      <td>-175.20</td>\n      <td></td>\n    </tr>\n    <tr>\n      <th>1</th>\n      <td>zhigansk</td>\n      <td>RU</td>\n      <td>66.77</td>\n      <td>123.37</td>\n      <td></td>\n    </tr>\n    <tr>\n      <th>2</th>\n      <td>hithadhoo</td>\n      <td>MV</td>\n      <td>-0.60</td>\n      <td>73.08</td>\n      <td></td>\n    </tr>\n    <tr>\n      <th>3</th>\n      <td>cabedelo</td>\n      <td>BR</td>\n      <td>-6.98</td>\n      <td>-34.83</td>\n      <td></td>\n    </tr>\n    <tr>\n      <th>4</th>\n      <td>jamestown</td>\n      <td>US</td>\n      <td>42.10</td>\n      <td>-79.24</td>\n      <td></td>\n    </tr>\n  </tbody>\n</table>\n</div>"
     },
     "metadata": {},
     "execution_count": 31
    }
   ],
   "source": [
    "# find the first hotels in locations\n",
    "hotellist = []\n",
    "\n",
    "for i in range(len(hotel_df)):\n",
    "    lat = hotel_df.loc[i]['Lat']\n",
    "    lng = hotel_df.loc[i]['Lng']\n",
    "\n",
    "    params = {\n",
    "        \"location\": f\"{lat},{lng}\",\n",
    "        \"radius\": 5000,\n",
    "        \"types\" : \"hotel\",\n",
    "        \"key\": g_key\n",
    "    }\n",
    "    \n",
    "    base_url = \"https://maps.googleapis.com/maps/api/place/nearbysearch/json\"\n",
    "    response = requests.get(base_url, params=params)\n",
    "    hotel_list = response.json()\n",
    "    try:\n",
    "        hotellist.append(hotel_list['results'][0]['name'])\n",
    "    except:\n",
    "        hotellist.append(\"\")\n",
    "hotel_df[\"Hotel Name\"] = hotellist\n",
    "hotel_df = hotel_df.dropna(how='any')\n",
    "hotel_df.head()\n",
    "    \n",
    "       "
   ]
  },
  {
   "cell_type": "code",
   "execution_count": null,
   "metadata": {},
   "outputs": [],
   "source": [
    "# NOTE: Do not change any of the code in this cell\n",
    "\n",
    "# Using the template add the hotel marks to the heatmap\n",
    "info_box_template = \"\"\"\n",
    "<dl>\n",
    "<dt>Name</dt><dd>{Hotel Name}</dd>\n",
    "<dt>City</dt><dd>{City}</dd>\n",
    "<dt>Country</dt><dd>{Country}</dd>\n",
    "</dl>\n",
    "\"\"\"\n",
    "# Store the DataFrame Row\n",
    "# NOTE: be sure to update with your DataFrame name\n",
    "hotel_info = [info_box_template.format(**row) for index, row in hotel_df.iterrows()]\n",
    "locations = hotel_df[[\"Lat\", \"Lng\"]]"
   ]
  },
  {
   "cell_type": "code",
   "execution_count": null,
   "metadata": {},
   "outputs": [],
   "source": [
    "# Add marker layer ontop of heat map\n",
    "\n",
    "\n",
    "# Display figure\n"
   ]
  },
  {
   "cell_type": "code",
   "execution_count": null,
   "metadata": {},
   "outputs": [],
   "source": []
  }
 ],
 "metadata": {
  "kernelspec": {
   "display_name": "Python 3.6.10 64-bit ('PythonData': conda)",
   "language": "python",
   "name": "python361064bitpythondataconda68f0f4eaa1d646f2a03166172983c52b"
  },
  "language_info": {
   "codemirror_mode": {
    "name": "ipython",
    "version": 3
   },
   "file_extension": ".py",
   "mimetype": "text/x-python",
   "name": "python",
   "nbconvert_exporter": "python",
   "pygments_lexer": "ipython3",
   "version": "3.6.10-final"
  },
  "latex_envs": {
   "LaTeX_envs_menu_present": true,
   "autoclose": false,
   "autocomplete": true,
   "bibliofile": "biblio.bib",
   "cite_by": "apalike",
   "current_citInitial": 1,
   "eqLabelWithNumbers": true,
   "eqNumInitial": 1,
   "hotkeys": {
    "equation": "Ctrl-E",
    "itemize": "Ctrl-I"
   },
   "labels_anchors": false,
   "latex_user_defs": false,
   "report_style_numbering": false,
   "user_envs_cfg": false
  }
 },
 "nbformat": 4,
 "nbformat_minor": 4
}