{
 "cells": [
  {
   "cell_type": "markdown",
   "metadata": {},
   "source": [
    "# VacationPy\n",
    "----\n",
    "\n",
    "#### Note\n",
    "* Keep an eye on your API usage. Use https://developers.google.com/maps/reporting/gmp-reporting as reference for how to monitor your usage and billing.\n",
    "\n",
    "* Instructions have been included for each segment. You do not have to follow them exactly, but they are included to help you think through the steps."
   ]
  },
  {
   "cell_type": "code",
   "execution_count": 1,
   "metadata": {},
   "outputs": [],
   "source": [
    "# Dependencies and Setup\n",
    "import matplotlib.pyplot as plt\n",
    "import pandas as pd\n",
    "import numpy as np\n",
    "import requests\n",
    "import gmaps\n",
    "import os\n",
    "\n",
    "# Import API key\n",
    "from api_keys import g_key"
   ]
  },
  {
   "cell_type": "markdown",
   "metadata": {},
   "source": [
    "### Store Part I results into DataFrame\n",
    "* Load the csv exported in Part I to a DataFrame"
   ]
  },
  {
   "cell_type": "code",
   "execution_count": 4,
   "metadata": {},
   "outputs": [
    {
     "output_type": "execute_result",
     "data": {
      "text/plain": "   Unnamed: 0       City    Lat     Lng  Max Temp  Humidity  Cloudiness  \\\n0           0      vaini -21.20 -175.20     75.20        69          75   \n1           1   zhigansk  66.77  123.37     47.43        75         100   \n2           2  hithadhoo  -0.60   73.08     82.15        76         100   \n3           3   cabedelo  -6.98  -34.83     71.60        88          23   \n4           4  jamestown  42.10  -79.24     68.00        67           1   \n\n   Wind Speed Country        Date  \n0       13.87      TO  1599438878  \n1       19.04      RU  1599439413  \n2       11.23      MV  1599439413  \n3        3.36      BR  1599439413  \n4        4.70      US  1599439414  ",
      "text/html": "<div>\n<style scoped>\n    .dataframe tbody tr th:only-of-type {\n        vertical-align: middle;\n    }\n\n    .dataframe tbody tr th {\n        vertical-align: top;\n    }\n\n    .dataframe thead th {\n        text-align: right;\n    }\n</style>\n<table border=\"1\" class=\"dataframe\">\n  <thead>\n    <tr style=\"text-align: right;\">\n      <th></th>\n      <th>Unnamed: 0</th>\n      <th>City</th>\n      <th>Lat</th>\n      <th>Lng</th>\n      <th>Max Temp</th>\n      <th>Humidity</th>\n      <th>Cloudiness</th>\n      <th>Wind Speed</th>\n      <th>Country</th>\n      <th>Date</th>\n    </tr>\n  </thead>\n  <tbody>\n    <tr>\n      <th>0</th>\n      <td>0</td>\n      <td>vaini</td>\n      <td>-21.20</td>\n      <td>-175.20</td>\n      <td>75.20</td>\n      <td>69</td>\n      <td>75</td>\n      <td>13.87</td>\n      <td>TO</td>\n      <td>1599438878</td>\n    </tr>\n    <tr>\n      <th>1</th>\n      <td>1</td>\n      <td>zhigansk</td>\n      <td>66.77</td>\n      <td>123.37</td>\n      <td>47.43</td>\n      <td>75</td>\n      <td>100</td>\n      <td>19.04</td>\n      <td>RU</td>\n      <td>1599439413</td>\n    </tr>\n    <tr>\n      <th>2</th>\n      <td>2</td>\n      <td>hithadhoo</td>\n      <td>-0.60</td>\n      <td>73.08</td>\n      <td>82.15</td>\n      <td>76</td>\n      <td>100</td>\n      <td>11.23</td>\n      <td>MV</td>\n      <td>1599439413</td>\n    </tr>\n    <tr>\n      <th>3</th>\n      <td>3</td>\n      <td>cabedelo</td>\n      <td>-6.98</td>\n      <td>-34.83</td>\n      <td>71.60</td>\n      <td>88</td>\n      <td>23</td>\n      <td>3.36</td>\n      <td>BR</td>\n      <td>1599439413</td>\n    </tr>\n    <tr>\n      <th>4</th>\n      <td>4</td>\n      <td>jamestown</td>\n      <td>42.10</td>\n      <td>-79.24</td>\n      <td>68.00</td>\n      <td>67</td>\n      <td>1</td>\n      <td>4.70</td>\n      <td>US</td>\n      <td>1599439414</td>\n    </tr>\n  </tbody>\n</table>\n</div>"
     },
     "metadata": {},
     "execution_count": 4
    }
   ],
   "source": [
    "# import of Weather csv\n",
    "vacation_csv = \"output_data/cities.csv\"\n",
    "vacation_data = pd.read_csv(vacation_csv)\n",
    "vacation_data.head()"
   ]
  },
  {
   "cell_type": "markdown",
   "metadata": {},
   "source": [
    "### Humidity Heatmap\n",
    "* Configure gmaps.\n",
    "* Use the Lat and Lng as locations and Humidity as the weight.\n",
    "* Add Heatmap layer to map."
   ]
  },
  {
   "cell_type": "code",
   "execution_count": 7,
   "metadata": {},
   "outputs": [
    {
     "output_type": "display_data",
     "data": {
      "text/plain": "Figure(layout=FigureLayout(border='1px solid black', height='400px', margin='0 auto 0 auto', padding='1px', wi…",
      "application/vnd.jupyter.widget-view+json": {
       "version_major": 2,
       "version_minor": 0,
       "model_id": "07e55ba25af8439b9ce8cdc31413a2e9"
      }
     },
     "metadata": {}
    }
   ],
   "source": [
    "# Store latitude and longitude in locations\n",
    "locations = vacation_data[[\"Lat\", \"Lng\"]]\n",
    "\n",
    "# Fill NaN values in Humidity and convert to float\n",
    "rating = vacation_data[\"Humidity\"].astype(float)\n",
    "\n",
    "figure_layout = {\n",
    "     'width' : '1000px',\n",
    "     'height':'400px',\n",
    "     'border':'1px solid black',\n",
    "     'padding':'1px',\n",
    "     'margin':'0 auto 0 auto'\n",
    " }\n",
    "\n",
    "fig = gmaps.figure(layout=figure_layout)\n",
    "#fig = gmaps.figure()\n",
    "\n",
    "# Create heat layer\n",
    "heat_layer = gmaps.heatmap_layer(locations, weights=rating, \n",
    "                                 dissipating=False, max_intensity=5,\n",
    "                                 point_radius=1)\n",
    "\n",
    "\n",
    "# Add layer\n",
    "fig.add_layer(heat_layer)\n",
    "\n",
    "# Display figure\n",
    "fig"
   ]
  },
  {
   "cell_type": "code",
   "execution_count": null,
   "metadata": {},
   "outputs": [],
   "source": []
  },
  {
   "cell_type": "markdown",
   "metadata": {},
   "source": [
    "### Create new DataFrame fitting weather criteria\n",
    "* Narrow down the cities to fit weather conditions.\n",
    "* Drop any rows will null values."
   ]
  },
  {
   "cell_type": "code",
   "execution_count": null,
   "metadata": {},
   "outputs": [],
   "source": []
  },
  {
   "cell_type": "markdown",
   "metadata": {},
   "source": [
    "### Hotel Map\n",
    "* Store into variable named `hotel_df`.\n",
    "* Add a \"Hotel Name\" column to the DataFrame.\n",
    "* Set parameters to search for hotels with 5000 meters.\n",
    "* Hit the Google Places API for each city's coordinates.\n",
    "* Store the first Hotel result into the DataFrame.\n",
    "* Plot markers on top of the heatmap."
   ]
  },
  {
   "cell_type": "code",
   "execution_count": null,
   "metadata": {},
   "outputs": [],
   "source": []
  },
  {
   "cell_type": "code",
   "execution_count": null,
   "metadata": {},
   "outputs": [],
   "source": []
  },
  {
   "cell_type": "code",
   "execution_count": null,
   "metadata": {},
   "outputs": [],
   "source": [
    "# NOTE: Do not change any of the code in this cell\n",
    "\n",
    "# Using the template add the hotel marks to the heatmap\n",
    "info_box_template = \"\"\"\n",
    "<dl>\n",
    "<dt>Name</dt><dd>{Hotel Name}</dd>\n",
    "<dt>City</dt><dd>{City}</dd>\n",
    "<dt>Country</dt><dd>{Country}</dd>\n",
    "</dl>\n",
    "\"\"\"\n",
    "# Store the DataFrame Row\n",
    "# NOTE: be sure to update with your DataFrame name\n",
    "hotel_info = [info_box_template.format(**row) for index, row in hotel_df.iterrows()]\n",
    "locations = hotel_df[[\"Lat\", \"Lng\"]]"
   ]
  },
  {
   "cell_type": "code",
   "execution_count": null,
   "metadata": {},
   "outputs": [],
   "source": [
    "# Add marker layer ontop of heat map\n",
    "\n",
    "\n",
    "# Display figure\n"
   ]
  },
  {
   "cell_type": "code",
   "execution_count": null,
   "metadata": {},
   "outputs": [],
   "source": []
  }
 ],
 "metadata": {
  "kernelspec": {
   "display_name": "Python 3.6.10 64-bit ('PythonData': conda)",
   "language": "python",
   "name": "python361064bitpythondataconda68f0f4eaa1d646f2a03166172983c52b"
  },
  "language_info": {
   "codemirror_mode": {
    "name": "ipython",
    "version": 3
   },
   "file_extension": ".py",
   "mimetype": "text/x-python",
   "name": "python",
   "nbconvert_exporter": "python",
   "pygments_lexer": "ipython3",
   "version": "3.6.10-final"
  },
  "latex_envs": {
   "LaTeX_envs_menu_present": true,
   "autoclose": false,
   "autocomplete": true,
   "bibliofile": "biblio.bib",
   "cite_by": "apalike",
   "current_citInitial": 1,
   "eqLabelWithNumbers": true,
   "eqNumInitial": 1,
   "hotkeys": {
    "equation": "Ctrl-E",
    "itemize": "Ctrl-I"
   },
   "labels_anchors": false,
   "latex_user_defs": false,
   "report_style_numbering": false,
   "user_envs_cfg": false
  }
 },
 "nbformat": 4,
 "nbformat_minor": 4
}